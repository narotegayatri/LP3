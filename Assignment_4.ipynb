{
 "cells": [
  {
   "cell_type": "markdown",
   "id": "VF9dkqXhynhP",
   "metadata": {
    "id": "VF9dkqXhynhP"
   },
   "source": []
  },
  {
   "cell_type": "code",
   "execution_count": null,
   "id": "xjrrPFDKynhT",
   "metadata": {
    "id": "xjrrPFDKynhT"
   },
   "outputs": [],
   "source": [
    "import numpy as np"
   ]
  },
  {
   "cell_type": "code",
   "execution_count": null,
   "id": "XkXUiUP8ynhV",
   "metadata": {
    "id": "XkXUiUP8ynhV"
   },
   "outputs": [],
   "source": [
    "def gradient_descent(start, gradient, learn_rate, max_iter, tol=0.01):\n",
    "  steps = [start] # history tracking\n",
    "  x = start\n",
    "\n",
    "  for _ in range(max_iter):\n",
    "    diff = learn_rate*gradient(x)\n",
    "    if np.abs(diff)<tol:\n",
    "      break    \n",
    "    x = x - diff\n",
    "    steps.append(x) # history tracing\n",
    "\n",
    "  return steps, x"
   ]
  },
  {
   "cell_type": "code",
   "execution_count": null,
   "id": "9w0GbvugynhW",
   "metadata": {
    "id": "9w0GbvugynhW"
   },
   "outputs": [],
   "source": [
    "def func1(x):\n",
    "  return x**2-4*x+1\n",
    "\n",
    "def gradient_func1(x):\n",
    "  return 2*x - 4"
   ]
  },
  {
   "cell_type": "code",
   "execution_count": null,
   "id": "vu2KUsToynhW",
   "metadata": {
    "id": "vu2KUsToynhW"
   },
   "outputs": [],
   "source": [
    "history, result = gradient_descent(9, gradient_func1, 0.1, 100)"
   ]
  },
  {
   "cell_type": "code",
   "execution_count": null,
   "id": "5awUQfaUynhX",
   "metadata": {
    "id": "5awUQfaUynhX",
    "outputId": "64770d1c-9d11-4855-fe91-a0dd06a8e231"
   },
   "outputs": [
    {
     "name": "stdout",
     "output_type": "stream",
     "text": [
      "History [9, 7.6, 6.4799999999999995, 5.584, 4.8671999999999995, 4.29376, 3.8350079999999998, 3.4680063999999997, 3.17440512, 2.939524096, 2.7516192768, 2.60129542144, 2.481036337152, 2.3848290697216, 2.30786325577728, 2.246290604621824, 2.197032483697459, 2.1576259869579673, 2.1261007895663737, 2.100880631653099, 2.080704505322479, 2.064563604257983, 2.0516508834063862, 2.041320706725109]\n"
     ]
    }
   ],
   "source": [
    "print('History',history)"
   ]
  },
  {
   "cell_type": "code",
   "execution_count": null,
   "id": "0RLTWPoZynhY",
   "metadata": {
    "id": "0RLTWPoZynhY",
    "outputId": "f642b7f0-f093-470d-900a-97a7109f54a3"
   },
   "outputs": [
    {
     "name": "stdout",
     "output_type": "stream",
     "text": [
      "Result 2.041320706725109\n"
     ]
    }
   ],
   "source": [
    "print('Result',result)"
   ]
  }
 ],
 "metadata": {
  "colab": {
   "provenance": []
  },
  "kernelspec": {
   "display_name": "Python 3 (ipykernel)",
   "language": "python",
   "name": "python3"
  },
  "language_info": {
   "codemirror_mode": {
    "name": "ipython",
    "version": 3
   },
   "file_extension": ".py",
   "mimetype": "text/x-python",
   "name": "python",
   "nbconvert_exporter": "python",
   "pygments_lexer": "ipython3",
   "version": "3.10.0"
  }
 },
 "nbformat": 4,
 "nbformat_minor": 5
}
